{
  "cells": [
    {
      "cell_type": "markdown",
      "metadata": {},
      "source": []
    },
    {
      "cell_type": "code",
      "metadata": {},
      "source": [
        "    --NewCellBegin_0\n",
        "        SELECT\n",
        "            Column1,\n",
        "            Column2,\n",
        "            Column3\n",
        "        FROM\n",
        "            SomeTable\n"
      ]
    },
    {
      "cell_type": "code",
      "metadata": {},
      "source": [
        "        -- DemoWhere: Where Column1 = 'example'\n",
        "    --NewCellEnd_0\n",
        "    )\n"
      ]
    },
    {
      "cell_type": "markdown",
      "metadata": {},
      "source": []
    },
    {
      "cell_type": "code",
      "metadata": {},
      "source": [
        "    -- NewCellBegin_1\n",
        "    SELECT\n",
        "        Column1,\n",
        "        Column2,\n",
        "        Column3\n",
        "    INTO\n",
        "        #TempTable\n",
        "    FROM\n",
        "        cte_example\n"
      ]
    },
    {
      "cell_type": "code",
      "metadata": {},
      "source": [
        "    -- DemoWhere: WHERE Column2 > 100\n",
        "    -- NewCellEnd_1\n",
        "\n"
      ]
    },
    {
      "cell_type": "markdown",
      "metadata": {},
      "source": []
    },
    {
      "cell_type": "code",
      "metadata": {},
      "source": [
        "    -- NewCellBegin_2\n",
        "    SELECT\n",
        "        Column1,\n",
        "        Column2,\n",
        "        SUM(Column3) AS TotalColumn3\n",
        "    FROM\n",
        "        #TempTable\n",
        "    GROUP BY\n",
        "        Column1,\n",
        "        Column2\n"
      ]
    },
    {
      "cell_type": "code",
      "metadata": {},
      "source": [
        "    -- DemoWhere: TotalColumn3 > 1000\n",
        "    -- NewCellEnd_2\n",
        "\n",
        "\n",
        "    -- CTE example where 2 CTEs are used and a final SELECT is performed\n"
      ]
    },
    {
      "cell_type": "code",
      "metadata": {},
      "source": [
        "    -- NewCellBegin_3\n",
        "    ;WITH cte_example AS (\n",
        "        SELECT\n",
        "            Column1,\n",
        "            Column2,\n",
        "            Column3\n",
        "        FROM\n",
        "            SomeTable\n"
      ]
    },
    {
      "cell_type": "code",
      "metadata": {},
      "source": [
        "        -- DemoWhere: Column1 = 'example'\n",
        "    ),\n",
        "    cte_example2 AS (\n"
      ]
    },
    {
      "cell_type": "code",
      "metadata": {},
      "source": [
        "        -- NewCellBegin_4\n",
        "        SELECT\n",
        "            Column1,\n",
        "            Column2,\n",
        "            Column3\n",
        "        FROM\n",
        "            SomeTable\n"
      ]
    },
    {
      "cell_type": "code",
      "metadata": {},
      "source": [
        "        -- DemoWhere: WHERE Column1 = 'example2'\n",
        "        -- NewCellEnd_4\n",
        "    )\n",
        "    SELECT\n",
        "        Column1,\n",
        "        Column2,\n",
        "        SUM(Column3) AS TotalColumn3\n",
        "    FROM\n",
        "\n",
        "        cte_example\n",
        "    INNER JOIN\n",
        "        cte_example2\n",
        "    ON\n",
        "        cte_example.Column1 = cte_example2.Column1\n",
        "\n",
        "    GROUP BY\n",
        "        Column1,\n",
        "        Column2\n"
      ]
    },
    {
      "cell_type": "code",
      "metadata": {},
      "source": [
        "    -- DemoWhere: WHERE TotalColumn3 > 1000\n",
        "    -- NewCellEnd_3\n",
        "END\n"
      ]
    }
  ],
  "metadata": {
    "language_info": {
      "name": "sql"
    }
  },
  "nbformat": 4,
  "nbformat_minor": 2
}