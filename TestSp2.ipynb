{
  "cells": [
    {
      "cell_type": "markdown",
      "metadata": {},
      "source": []
    },
    {
      "cell_type": "code",
      "metadata": {},
      "source": [
        "     -- DemoWhere: Where Column1 = 'example'\n"
      ]
    },
    {
      "cell_type": "markdown",
      "metadata": {},
      "source": []
    },
    {
      "cell_type": "code",
      "metadata": {},
      "source": [
        " -- DemoWhere: WHERE Column2 > 100\n"
      ]
    },
    {
      "cell_type": "markdown",
      "metadata": {},
      "source": []
    },
    {
      "cell_type": "code",
      "metadata": {},
      "source": [
        " -- DemoWhere: TotalColumn3 > 1000\n"
      ]
    },
    {
      "cell_type": "code",
      "metadata": {},
      "source": [
        "     -- DemoWhere: WHERE Column1 = 'example2'\n"
      ]
    },
    {
      "cell_type": "code",
      "metadata": {},
      "source": [
        "     -- DemoWhere: Column1 = 'example'\n",
        " -- DemoWhere: WHERE TotalColumn3 > 1000\n"
      ]
    }
  ],
  "metadata": {
    "kernelspec": {
      "display_name": "SQL",
      "language": "sql",
      "name": "mssql"
    },
    "language_info": {
      "codemirror_mode": "sql",
      "file_extension": ".sql",
      "mimetype": "text/x-sql",
      "name": "sql"
    }
  },
  "nbformat": 4,
  "nbformat_minor": 5
}